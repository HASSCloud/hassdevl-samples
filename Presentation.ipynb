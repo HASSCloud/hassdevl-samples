{
 "cells": [
  {
   "cell_type": "markdown",
   "metadata": {
    "slideshow": {
     "slide_type": "slide"
    }
   },
   "source": [
    "# Mining the Government Gazettes\n",
    "\n",
    "**Steve Cassidy**"
   ]
  },
  {
   "cell_type": "markdown",
   "metadata": {
    "slideshow": {
     "slide_type": "slide"
    }
   },
   "source": [
    "## HASS DEVL \n",
    "\n",
    "- Humanities and Social Sciences Data Enhanced Virtual Laboratory\n",
    "- Creation of new datasets \n",
    "- Movement of data between repositories\n",
    "- Developing workflows for data analysis\n",
    "- Interfacing tools\n",
    "- Building a Workbench\n",
    "- https://hasscloud.net.au/"
   ]
  },
  {
   "cell_type": "markdown",
   "metadata": {
    "slideshow": {
     "slide_type": "slide"
    }
   },
   "source": [
    "## Data Sources\n",
    "\n",
    "- [Historical Census - Australian Data Archive](http://assda.anu.edu.au/census/)\n",
    "- [Prosecution Project](https://prosecutionproject.griffith.edu.au/)\n",
    "- [Alveo](https://alveo.edu.au/)\n",
    "- [NLA Trove: Government Gazettes](https://trove.nla.gov.au/newspaper/gazette?q=)\n",
    "- [Australian Urban Research Infrastructure Network (AURIN)](https://aurin.org.au/)"
   ]
  },
  {
   "cell_type": "markdown",
   "metadata": {
    "slideshow": {
     "slide_type": "slide"
    }
   },
   "source": [
    "## NLP Workflows\n",
    "\n",
    "- Main interest is in Named Entity Recognition\n",
    "- Goal is to extract entity mentions from historical documents\n",
    "- People: mentions of individuals, famous or otherwise\n",
    "- Places: extract mentions and link to gegraphic location"
   ]
  },
  {
   "cell_type": "markdown",
   "metadata": {
    "slideshow": {
     "slide_type": "slide"
    }
   },
   "source": [
    "## Sample Workflows\n",
    "\n",
    "- I've built a few sample Jupyter Notebooks demonstrating NER and Geolocation workflows\n",
    "- Digivol/FromThePage transcribed document source\n",
    "- Spacy NER\n",
    "- Alveo API document sources "
   ]
  },
  {
   "cell_type": "markdown",
   "metadata": {
    "slideshow": {
     "slide_type": "slide"
    }
   },
   "source": [
    "## Government Gazettes\n",
    "\n",
    "<img src=\"images/trove-eastwood-nightsoil.jpg\" width='100%'>"
   ]
  },
  {
   "cell_type": "markdown",
   "metadata": {
    "slideshow": {
     "slide_type": "slide"
    }
   },
   "source": [
    "## Government Gazettes\n",
    "\n",
    "- [Certificates of Naturalisation](https://trove.nla.gov.au/newspaper/article/241042991)\n",
    "- [Public Service Promotions](https://trove.nla.gov.au/newspaper/article/232468090#)\n",
    "- [Military Promotions](https://trove.nla.gov.au/newspaper/article/232468089)\n",
    "- [Local Government Area Boundaries](https://trove.nla.gov.au/newspaper/article/225367929)"
   ]
  },
  {
   "cell_type": "markdown",
   "metadata": {
    "slideshow": {
     "slide_type": "slide"
    }
   },
   "source": [
    "## Certificates of Naturalisation\n",
    "\n",
    "- Lists of new citizens, \"last, first, address, date;\" \n",
    "- Spacy NER performs very poorly\n",
    "- Can extract many results using pattern matching\n",
    "- Can this be used to improve the NER system? \n",
    "- What else can I try? "
   ]
  },
  {
   "cell_type": "code",
   "execution_count": null,
   "metadata": {},
   "outputs": [],
   "source": []
  }
 ],
 "metadata": {
  "celltoolbar": "Slideshow",
  "kernelspec": {
   "display_name": "Python 3",
   "language": "python",
   "name": "python3"
  },
  "language_info": {
   "codemirror_mode": {
    "name": "ipython",
    "version": 3
   },
   "file_extension": ".py",
   "mimetype": "text/x-python",
   "name": "python",
   "nbconvert_exporter": "python",
   "pygments_lexer": "ipython3",
   "version": "3.6.5"
  }
 },
 "nbformat": 4,
 "nbformat_minor": 2
}
