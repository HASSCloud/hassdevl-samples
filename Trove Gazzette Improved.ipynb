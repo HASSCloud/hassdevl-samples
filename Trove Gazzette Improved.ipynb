{
 "cells": [
  {
   "cell_type": "markdown",
   "metadata": {},
   "source": [
    "## Analysis of Trove Government Gazettes\n",
    "\n",
    "Attempting to reproduce the work described [on the NLA blog](https://www.nla.gov.au/blogs/trove/2018/07/23/digital-tools-for-big-research) where a collection of Certificates of Naturalisation were selected from the Trove Government Gazettes and analysed to give a picture of the number of arrivals over time. \n",
    "\n",
    "In that exercise the work was done manually to identify names and generate counts.  I will attempt to implement an automated process to derive the same data. \n",
    "\n",
    "This notebook makes use of a number of functions defined in the `gazette` module in this directory.  These are not \n",
    "included in the notebook to make it easier to read but the code is accessible in that file\n",
    "for reference. "
   ]
  },
  {
   "cell_type": "code",
   "execution_count": null,
   "metadata": {},
   "outputs": [],
   "source": [
    "# install all requirements quietly\n",
    "!pip install -q -r requirements.txt"
   ]
  },
  {
   "cell_type": "code",
   "execution_count": null,
   "metadata": {},
   "outputs": [],
   "source": [
    "%load_ext autoreload\n",
    "%autoreload 2\n",
    "\n",
    "import pandas as pd\n",
    "import numpy as np\n",
    "import spacy\n",
    "\n",
    "# import two local modules\n",
    "import utils\n",
    "import gazette"
   ]
  },
  {
   "cell_type": "markdown",
   "metadata": {},
   "source": [
    "## Load Spacy \n",
    "\n",
    "[Spacy](https://spacy.io/) is a Python module for Natural Language Processing. It is capable of doing Named Entity Recognition but our experiments on the target texts show that it doesn't perform very well because there is little context in the lists of names to provide the usual cues to whether a word is a name or not.  \n",
    "\n",
    "However, Spacy provides some useful pattern matching functionality that we can use to find names within this text. So we load a model here and create the Spacy NLP processor."
   ]
  },
  {
   "cell_type": "code",
   "execution_count": null,
   "metadata": {},
   "outputs": [],
   "source": [
    "# download the spacy models we need\n",
    "SPACY_MODEL = 'en_core_web_sm'\n",
    "#spacy.cli.download(SPACY_MODEL)\n",
    "nlp = spacy.load(SPACY_MODEL)"
   ]
  },
  {
   "cell_type": "markdown",
   "metadata": {},
   "source": [
    "We use the function defined in the `utils` module to query the Trove API for \"Certificates of Naturalisation\" - these are the articles in the Government Gazzettes that contain lists of names of recently naturalised citizens.  Our goal is to extract from these the details of the names and addresses of these people.   We ask for 1000 matches to the query.\n",
    "\n",
    "Note that the query procedure will save the results in a cache file so that we don't query Trove\n",
    "too many times for large numbers of documents (it's also much faster to load a file than query the API)."
   ]
  },
  {
   "cell_type": "code",
   "execution_count": null,
   "metadata": {},
   "outputs": [],
   "source": [
    "articles = utils.trove_query_cached('\"Certificates of Naturalisation\"', 1000, cachefile=\"articles.json\")\n",
    "articles.head()"
   ]
  },
  {
   "cell_type": "code",
   "execution_count": null,
   "metadata": {},
   "outputs": [],
   "source": [
    "## look at the text of the first article. The text is marked up in HTML with one <span> element\n",
    "## per line. \n",
    "\n",
    "articles.iloc[0].articleText"
   ]
  },
  {
   "cell_type": "markdown",
   "metadata": {},
   "source": [
    "The next stage uses the Spacy NLP module to match names, addresses and dates within the text.   The procedure is defined in the functions in the `gazette` module, look there for the detail but I will outline it here.\n",
    "\n",
    "First we find the text of the article. This is done by removing the HTML tags from the text but we also skip \n",
    "the inital lines of the text that are the header of the article.  We do this by ignoring lines up to\n",
    "one containg the word 'Secretary' since that is generally the last line before the list of names begins.\n",
    "\n",
    "The text is added as a column (`text`) in the data frame."
   ]
  },
  {
   "cell_type": "code",
   "execution_count": null,
   "metadata": {},
   "outputs": [],
   "source": [
    "articles['text'] = articles.apply(gazette.trove_naturalisation_text, axis=1)\n",
    "articles.head()"
   ]
  },
  {
   "cell_type": "code",
   "execution_count": null,
   "metadata": {},
   "outputs": [],
   "source": [
    "## let's look at the stripped text for the first article\n",
    "print(articles.iloc[0].text)"
   ]
  },
  {
   "cell_type": "markdown",
   "metadata": {},
   "source": [
    "The text is structured as a series of records\n",
    "\n",
    "> Last, First, Address, Date\n",
    "\n",
    "the approach to finding these is to identify the dates via pattern matching, then split the text on the comma character to extract the name and address parts.   \n",
    "\n",
    "Spacy has a powerful pattern matcher that let's us write flexible patterns to match dates:\n",
    "\n",
    "```python\n",
    "matcher.add('DATE', None,\n",
    "            [{'SHAPE': 'd.d.dd'}],\n",
    "            [{'SHAPE': 'd,d.dd'}],\n",
    "            [{'SHAPE': 'd.dd.dd'}],\n",
    "            [{'SHAPE': 'dd.d.dd'}],\n",
    "            [{'SHAPE': 'dd.dd.dd'}],\n",
    "            [{'SHAPE': 'dd.d.dddd'}],\n",
    "            [{'SHAPE': 'dd.dd.dddd'}],\n",
    "            [{'SHAPE': 'd.d.dddd'}],\n",
    "            [{'SHAPE': 'd.dd.dddd'}],\n",
    "            [{'SHAPE': 'dd'}, {'IS_SPACE': True}, {'SHAPE': 'd.dd'}],\n",
    "            [{'SHAPE': 'dd'}, {'IS_SPACE': True}, {'SHAPE': 'dd.dd'}],\n",
    "            [{'IS_DIGIT': True}, {'IS_SPACE': True}, {'IS_DIGIT': True}, {'IS_SPACE': True}, {'IS_DIGIT': True}]\n",
    "            )\n",
    "```\n",
    "\n",
    "This pattern matches dates like '15.12.66' and '15 12 66' and a few other variations that are observed in the text.  \n",
    "\n",
    "Once dates have been identified we can select the text between dates and split it at each comma to identify \n",
    "the name and address.  The result is a set of __tags__ for each text showing the start and end of each \n",
    "entity.   \n",
    "\n",
    "We apply this procedure to every article in the dataframe and add the result as a new column `tags`.  Note\n",
    "that this step takes some time (about five minutes on my laptop) since we are doing quite a bit of work on 1000 documents."
   ]
  },
  {
   "cell_type": "code",
   "execution_count": null,
   "metadata": {},
   "outputs": [],
   "source": [
    "articles['tags'] = articles.apply(gazette.tag_row, axis=1, args=(nlp,))"
   ]
  },
  {
   "cell_type": "code",
   "execution_count": null,
   "metadata": {},
   "outputs": [],
   "source": [
    "## look at the tags for the first article (sorted to put them in order of the start offset)\n",
    "sorted(articles['tags'][0])"
   ]
  },
  {
   "cell_type": "markdown",
   "metadata": {},
   "source": [
    "We now note that if this has worked we have sequences of LASTNAME, FIRSTNAME, ADDR, DATE in the tags.  We now run a process that extracts these sequences into name-address-date records in a new data frame. We keep track of the tags that are used to support the record as they will be useful later for training a new statistical model.\n",
    "\n",
    "For each date we extract we try to parse it into day/month/year and add a field with a standardised date format."
   ]
  },
  {
   "cell_type": "code",
   "execution_count": null,
   "metadata": {},
   "outputs": [],
   "source": [
    "records = gazette.extract_records(articles)\n",
    "records.head()"
   ]
  },
  {
   "cell_type": "code",
   "execution_count": null,
   "metadata": {},
   "outputs": [],
   "source": [
    "records.support[0]"
   ]
  },
  {
   "cell_type": "code",
   "execution_count": null,
   "metadata": {},
   "outputs": [],
   "source": [
    "records.shape"
   ]
  },
  {
   "cell_type": "markdown",
   "metadata": {},
   "source": [
    "---\n",
    "So we now have 81518 name address records. However, some of these will be invalid as our parse procedure is not\n",
    "perfect.  We can remove some obvious errors by looking for things we don't expect:\n",
    "\n",
    "- numbers in first or last name\n",
    "- have a defaulted date field (couldn't parse date)\n",
    "- address contains 'formerly' (probably contains more than one record)\n",
    "- address is more than 70 chars (probably contains more than one record)\n",
    "\n",
    "This is done by the procedure `valid_record` which we apply to every record to get a boolean vector, we can then use \n",
    "that to select just the good records. We get the bad ones too as we might be able to learn something from them."
   ]
  },
  {
   "cell_type": "code",
   "execution_count": null,
   "metadata": {},
   "outputs": [],
   "source": [
    "keep = records.apply(gazette.valid_record, axis=1)\n",
    "good_records = records[keep]\n",
    "bad_records = records[keep == False]"
   ]
  },
  {
   "cell_type": "code",
   "execution_count": null,
   "metadata": {},
   "outputs": [],
   "source": [
    "good_records.shape"
   ]
  },
  {
   "cell_type": "markdown",
   "metadata": {},
   "source": [
    "---\n",
    "So we now have 70209 'good' records - those that look reasonable.  Let's take a look at a few of the good and bad ones."
   ]
  },
  {
   "cell_type": "code",
   "execution_count": null,
   "metadata": {},
   "outputs": [],
   "source": [
    "good_records.head()"
   ]
  },
  {
   "cell_type": "code",
   "execution_count": null,
   "metadata": {},
   "outputs": [],
   "source": [
    "bad_records.head()"
   ]
  },
  {
   "cell_type": "markdown",
   "metadata": {},
   "source": [
    "---\n",
    "Write the good records out to a CSV file so that they could be passed to another process/application or just\n",
    "examinied offline.  This cell will just write the main columns, ignoring the support column which isn't really\n",
    "human readable."
   ]
  },
  {
   "cell_type": "code",
   "execution_count": null,
   "metadata": {},
   "outputs": [],
   "source": [
    "with open(\"good_records.csv\", 'w') as fd:\n",
    "    good_records.to_csv(fd, columns=['id', 'first', 'last', 'address', 'date', 'datestring'])"
   ]
  },
  {
   "cell_type": "code",
   "execution_count": null,
   "metadata": {},
   "outputs": [],
   "source": []
  }
 ],
 "metadata": {
  "kernelspec": {
   "display_name": "Python 3",
   "language": "python",
   "name": "python3"
  },
  "language_info": {
   "codemirror_mode": {
    "name": "ipython",
    "version": 3
   },
   "file_extension": ".py",
   "mimetype": "text/x-python",
   "name": "python",
   "nbconvert_exporter": "python",
   "pygments_lexer": "ipython3",
   "version": "3.6.5"
  }
 },
 "nbformat": 4,
 "nbformat_minor": 2
}
